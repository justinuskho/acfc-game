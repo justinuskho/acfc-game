{
 "cells": [
  {
   "cell_type": "code",
   "execution_count": 3,
   "id": "dfc75618-4830-48f9-bc57-fd67715888f1",
   "metadata": {},
   "outputs": [
    {
     "data": {
      "application/vnd.jupyter.widget-view+json": {
       "model_id": "2a76290e8f8a4ec0ad4d82ad6652a129",
       "version_major": 2,
       "version_minor": 0
      },
      "text/plain": [
       "Text(value='Test', description='Event Code:', placeholder='Enter your event code')"
      ]
     },
     "metadata": {},
     "output_type": "display_data"
    }
   ],
   "source": [
    "import ipywidgets as widgets\n",
    "\n",
    "widgets.Text(\n",
    "    value='Test',\n",
    "    placeholder='Enter your event code',\n",
    "    description='Event Code:',\n",
    "    disabled=False\n",
    ")"
   ]
  },
  {
   "cell_type": "code",
   "execution_count": 28,
   "id": "ee339a63-980c-4944-a764-bb18a6a963dc",
   "metadata": {},
   "outputs": [],
   "source": [
    "import pandas as pd\n",
    "df = pd.read_csv('test.csv').head()\n",
    "\n",
    "import tempfile\n",
    "with tempfile.NamedTemporaryFile() as temp:\n",
    "    df.to_csv(temp.name+'.csv')"
   ]
  },
  {
   "cell_type": "code",
   "execution_count": 2,
   "id": "7efb8636-1df9-4846-b411-52e1b50e1762",
   "metadata": {},
   "outputs": [
    {
     "name": "stdout",
     "output_type": "stream",
     "text": [
      "client_secret.json-drive-v3-(['https://www.googleapis.com/auth/drive'],)\n",
      "['https://www.googleapis.com/auth/drive']\n",
      "drive service created successfully\n"
     ]
    }
   ],
   "source": [
    "from Google import Create_Service\n",
    "\n",
    "CLIENT_SECRET_FILE = 'client_secret.json'\n",
    "API_NAME = 'drive'\n",
    "API_VERSION = 'v3'\n",
    "SCOPES = ['https://www.googleapis.com/auth/drive']\n",
    "\n",
    "service = Create_Service(CLIENT_SECRET_FILE, API_NAME, API_VERSION, SCOPES)"
   ]
  },
  {
   "cell_type": "code",
   "execution_count": 36,
   "id": "864be3b6-b596-45c6-88b7-2a8d6f396798",
   "metadata": {},
   "outputs": [
    {
     "name": "stdout",
     "output_type": "stream",
     "text": [
      "Upload Complete!\n"
     ]
    }
   ],
   "source": [
    "from datetime import datetime\n",
    "timestamp_str = datetime.now().strftime('%Y%m%d_%H%m')\n",
    "\n",
    "from googleapiclient.http import MediaFileUpload\n",
    "\n",
    "folder_id = '1UogxFBwmbd6PXqQ40Wtp8HlAFxAspTFw'\n",
    "request = service.files().create(\n",
    "    body={\n",
    "        'name':f'test_{timestamp_str}.csv',\n",
    "        'parents':[folder_id]\n",
    "    },\n",
    "    media_body=MediaFileUpload(\n",
    "        temp.name+'.csv',\n",
    "        mimetype='application/octet-stream',\n",
    "        resumable=True\n",
    "    )\n",
    ")\n",
    "\n",
    "response = None\n",
    "while response is None:\n",
    "    status, response = request.next_chunk()\n",
    "    if status:\n",
    "        print(\"Uploaded %d%%.\" % int(status.progress() * 100))\n",
    "print(\"Upload Complete!\")"
   ]
  }
 ],
 "metadata": {
  "kernelspec": {
   "display_name": "Python 3 (ipykernel)",
   "language": "python",
   "name": "python3"
  },
  "language_info": {
   "codemirror_mode": {
    "name": "ipython",
    "version": 3
   },
   "file_extension": ".py",
   "mimetype": "text/x-python",
   "name": "python",
   "nbconvert_exporter": "python",
   "pygments_lexer": "ipython3",
   "version": "3.9.13"
  }
 },
 "nbformat": 4,
 "nbformat_minor": 5
}
