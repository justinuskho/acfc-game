{
 "cells": [
  {
   "cell_type": "code",
   "execution_count": 3,
   "id": "dfc75618-4830-48f9-bc57-fd67715888f1",
   "metadata": {},
   "outputs": [
    {
     "data": {
      "application/vnd.jupyter.widget-view+json": {
       "model_id": "2a76290e8f8a4ec0ad4d82ad6652a129",
       "version_major": 2,
       "version_minor": 0
      },
      "text/plain": [
       "Text(value='Test', description='Event Code:', placeholder='Enter your event code')"
      ]
     },
     "metadata": {},
     "output_type": "display_data"
    }
   ],
   "source": [
    "import ipywidgets as widgets\n",
    "\n",
    "widgets.Text(\n",
    "    value='Test',\n",
    "    placeholder='Enter your event code',\n",
    "    description='Event Code:',\n",
    "    disabled=False\n",
    ")"
   ]
  },
  {
   "cell_type": "code",
   "execution_count": null,
   "id": "fcb4932b-892c-407f-8e69-cfe0dd307597",
   "metadata": {},
   "outputs": [],
   "source": []
  }
 ],
 "metadata": {
  "kernelspec": {
   "display_name": "Python 3 (ipykernel)",
   "language": "python",
   "name": "python3"
  },
  "language_info": {
   "codemirror_mode": {
    "name": "ipython",
    "version": 3
   },
   "file_extension": ".py",
   "mimetype": "text/x-python",
   "name": "python",
   "nbconvert_exporter": "python",
   "pygments_lexer": "ipython3",
   "version": "3.9.13"
  }
 },
 "nbformat": 4,
 "nbformat_minor": 5
}
