{
 "cells": [
  {
   "cell_type": "code",
   "execution_count": null,
   "id": "dfc75618-4830-48f9-bc57-fd67715888f1",
   "metadata": {},
   "outputs": [],
   "source": [
    "import ipywidgets as widgets\n",
    "\n",
    "widgets.Text(\n",
    "    value='Test',\n",
    "    placeholder='Enter your event code',\n",
    "    description='Event Code:',\n",
    "    disabled=False\n",
    ")"
   ]
  },
  {
   "cell_type": "code",
   "execution_count": null,
   "id": "6c8df037-bb53-48f0-b4d8-2d3c6246ac27",
   "metadata": {},
   "outputs": [],
   "source": [
    "import pandas as pd\n",
    "raw_data = {'first_name': ['Jason', 'Molly', 'Tina', 'Jake', 'Amy'], \n",
    "        'last_name': ['Miller', 'Jacobson', 'Ali', 'Milner', 'Cooze'], \n",
    "        'age': [42, 52, 36, 24, 73], \n",
    "        'preTestScore': [4, 24, 31, 2, 3],\n",
    "        'postTestScore': [25, 94, 57, 62, 70]}\n",
    "df = pd.DataFrame(raw_data, columns = ['first_name', 'last_name', 'age', 'preTestScore', 'postTestScore'])\n",
    "\n",
    "import tempfile\n",
    "with tempfile.NamedTemporaryFile() as temp:\n",
    "    df.to_csv(temp.name+'.csv')"
   ]
  },
  {
   "cell_type": "code",
   "execution_count": null,
   "id": "7efb8636-1df9-4846-b411-52e1b50e1762",
   "metadata": {},
   "outputs": [],
   "source": [
    "from Google import Create_Service\n",
    "\n",
    "CLIENT_SECRET_FILE = 'client_secret.json'\n",
    "API_NAME = 'drive'\n",
    "API_VERSION = 'v3'\n",
    "SCOPES = ['https://www.googleapis.com/auth/drive']\n",
    "\n",
    "service = Create_Service(CLIENT_SECRET_FILE, API_NAME, API_VERSION, SCOPES)"
   ]
  },
  {
   "cell_type": "code",
   "execution_count": null,
   "id": "864be3b6-b596-45c6-88b7-2a8d6f396798",
   "metadata": {},
   "outputs": [],
   "source": [
    "from datetime import datetime\n",
    "timestamp_str = datetime.now().strftime('%Y%m%d_%H%M')\n",
    "\n",
    "from googleapiclient.http import MediaFileUpload\n",
    "\n",
    "folder_id = '1UogxFBwmbd6PXqQ40Wtp8HlAFxAspTFw'\n",
    "request = service.files().create(\n",
    "    body={\n",
    "        'name':f'test_{timestamp_str}.csv',\n",
    "        'parents':[folder_id]\n",
    "    },\n",
    "    media_body=MediaFileUpload(\n",
    "        temp.name+'.csv',\n",
    "        mimetype='application/octet-stream',\n",
    "        resumable=True\n",
    "    )\n",
    ")\n",
    "\n",
    "response = None\n",
    "while response is None:\n",
    "    status, response = request.next_chunk()\n",
    "    if status:\n",
    "        print(\"Uploaded %d%%.\" % int(status.progress() * 100))\n",
    "print(\"Upload Complete!\")"
   ]
  },
  {
   "cell_type": "code",
   "execution_count": null,
   "id": "d2d6329c-f462-491e-b6da-f3d35bac7b34",
   "metadata": {},
   "outputs": [],
   "source": []
  }
 ],
 "metadata": {
  "kernelspec": {
   "display_name": "Python 3 (ipykernel)",
   "language": "python",
   "name": "python3"
  },
  "language_info": {
   "codemirror_mode": {
    "name": "ipython",
    "version": 3
   },
   "file_extension": ".py",
   "mimetype": "text/x-python",
   "name": "python",
   "nbconvert_exporter": "python",
   "pygments_lexer": "ipython3",
   "version": "3.9.13"
  }
 },
 "nbformat": 4,
 "nbformat_minor": 5
}
